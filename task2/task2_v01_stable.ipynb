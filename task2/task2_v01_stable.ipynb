{
  "nbformat": 4,
  "nbformat_minor": 0,
  "metadata": {
    "colab": {
      "name": "task2_v01_stable.ipynb",
      "provenance": [],
      "collapsed_sections": []
    },
    "kernelspec": {
      "name": "python3",
      "display_name": "Python 3"
    },
    "language_info": {
      "name": "python"
    },
    "accelerator": "GPU"
  },
  "cells": [
    {
      "cell_type": "markdown",
      "metadata": {
        "id": "t5jAtC1Itn9d"
      },
      "source": [
        "Task 2 <br>\n",
        "<ol>\n",
        "<li>Build a fully connected ANN and train it (on GPU)<br>\n",
        "<li>Build a CNN with MLP on top of it as classifier and train it (on GPU)<br>\n",
        "<li>Compare the results and plot the learning and evaluation curves<br>\n",
        "</ol>\n"
      ]
    },
    {
      "cell_type": "markdown",
      "metadata": {
        "id": "ZU-HS_gquB9G"
      },
      "source": [
        "First import nescesary tools\n",
        "\n",
        "\n",
        " "
      ]
    },
    {
      "cell_type": "code",
      "metadata": {
        "id": "UvxNSzSUuYJ8"
      },
      "source": [
        "import torch\n",
        "import torchvision\n",
        "import torchvision.transforms as transforms\n",
        "import numpy as np\n",
        "import matplotlib.pyplot as plt \n",
        "import pandas as pd \n",
        "%matplotlib inline \n",
        "path_data = './data/'"
      ],
      "execution_count": 1,
      "outputs": []
    },
    {
      "cell_type": "markdown",
      "metadata": {
        "id": "rmYHarEMPDEm"
      },
      "source": [
        "It is prefered to use GPU's "
      ]
    },
    {
      "cell_type": "code",
      "metadata": {
        "id": "zqpIf7nvfcPi"
      },
      "source": [
        "device = 'cuda' if torch.cuda.is_available() else 'cpu'"
      ],
      "execution_count": 2,
      "outputs": []
    },
    {
      "cell_type": "markdown",
      "metadata": {
        "id": "R9OLHJJwwQe0"
      },
      "source": [
        " \n",
        "Next we need to find dataset\n",
        "my choice is fashion dataset, it provides a lot of black and white images of clothing.<br>\n",
        "train data contains data is used to train the model <br>\n",
        "test contains dataset used to test our net \n",
        "\n",
        "\n"
      ]
    },
    {
      "cell_type": "code",
      "metadata": {
        "id": "7fGLqLFPyRB8"
      },
      "source": [
        "train_data = torchvision.datasets.FashionMNIST(root=path_data, train=True, download=True) \n",
        "test = torchvision.datasets.FashionMNIST(root=path_data, train=False, download=True) "
      ],
      "execution_count": 3,
      "outputs": []
    },
    {
      "cell_type": "markdown",
      "metadata": {
        "id": "HBagmgRdyth6"
      },
      "source": [
        "Here we normalize the training data"
      ]
    },
    {
      "cell_type": "code",
      "metadata": {
        "id": "Q373xyfIwWnc"
      },
      "source": [
        "type(train_data)\n",
        "cifar_transform = transforms.Compose([\n",
        "    transforms.ToTensor(),\n",
        "    transforms.Normalize((0.5), (0.5))\n",
        "])\n",
        "\n",
        "train_data.transform = cifar_transform\n",
        "test.transform = cifar_transform\n",
        "train_data.transforms = torchvision.datasets.vision.StandardTransform(cifar_transform)\n",
        "test.transforms = torchvision.datasets.vision.StandardTransform(cifar_transform)\n"
      ],
      "execution_count": 4,
      "outputs": []
    },
    {
      "cell_type": "markdown",
      "metadata": {
        "id": "OLMDyYLPzL6U"
      },
      "source": [
        "It is necessary to train shuffle data before training, so not to encourage repetition in data samples\n",
        "batch size defined \"how many images will be used at once\",\n",
        "in in other words \" how many images need to be fed to net before we calculate loss function\"\n"
      ]
    },
    {
      "cell_type": "code",
      "metadata": {
        "id": "kFTl49ubHJqn"
      },
      "source": [
        "train_dataloader = torch.utils.data.DataLoader(train_data, batch_size=4,\n",
        "                                          shuffle=True, num_workers=2)\n",
        "testloader = torch.utils.data.DataLoader(train_data, batch_size=4,\n",
        "                                          shuffle=False, num_workers=2)"
      ],
      "execution_count": 5,
      "outputs": []
    },
    {
      "cell_type": "code",
      "metadata": {
        "id": "qPYwfh6i3Ber"
      },
      "source": [
        "train_data_iter = iter(train_dataloader)\n",
        "images, labels = train_data_iter.next()\n",
        "#print(images[0])"
      ],
      "execution_count": 15,
      "outputs": []
    },
    {
      "cell_type": "markdown",
      "metadata": {
        "id": "4803cZFn5cC0"
      },
      "source": [
        "It's common to couple few images together, for learning purposes  <br>\n",
        "below I display sample of the data both with corresponding labels \n"
      ]
    },
    {
      "cell_type": "code",
      "metadata": {
        "colab": {
          "base_uri": "https://localhost:8080/",
          "height": 155
        },
        "id": "JgU-W_hFhwJZ",
        "outputId": "72fe585e-5b5f-4fb3-e04d-9091db9276c2"
      },
      "source": [
        "def plot_images(images, labels): \n",
        "    \n",
        "    img_grid = torchvision.utils.make_grid(images, nrow=4, normalize=True)\n",
        "    np_img = img_grid.numpy().transpose(1,2,0)  \n",
        "    plt.imshow(np_img)\n",
        "    \n",
        "d_class2idx = train_data.class_to_idx\n",
        "d_idx2class = dict(zip(d_class2idx.values(),d_class2idx.keys()))\n",
        "\n",
        "images, labels = train_data_iter.next()\n",
        "plot_images(images,labels)\n",
        "print(' '.join('%5s' % d_idx2class[int(labels[j])] for j in range(len(images))))"
      ],
      "execution_count": 7,
      "outputs": [
        {
          "output_type": "stream",
          "text": [
            "Sneaker Trouser Ankle boot Pullover\n"
          ],
          "name": "stdout"
        },
        {
          "output_type": "display_data",
          "data": {
            "image/png": "[encoded data removed]",
            "text/plain": [
              "<Figure size 432x288 with 1 Axes>"
            ]
          },
          "metadata": {
            "tags": [],
            "needs_background": "light"
          }
        }
      ]
    },
    {
      "cell_type": "code",
      "metadata": {
        "id": "6BSfYtQz50rU"
      },
      "source": [
        "import torch.nn as nn \n",
        "import torch.nn.functional as F "
      ],
      "execution_count": 8,
      "outputs": []
    },
    {
      "cell_type": "markdown",
      "metadata": {
        "id": "UrVUEg4eRlMn"
      },
      "source": [
        "Define our custom CNN"
      ]
    },
    {
      "cell_type": "code",
      "metadata": {
        "id": "mW1aJJ176BVs"
      },
      "source": [
        "class Net(nn.Module): \n",
        "    def __init__(self): \n",
        "        super().__init__()\n",
        "        self.convlayer1 = nn.Conv2d(1, 6, 4)\n",
        "        \n",
        "        self.pool = nn.MaxPool2d(2,2)\n",
        "    \n",
        "        self.convlayer2 = nn.Conv2d(6,12,4) \n",
        "        self.layer1 = nn.Linear(12*4*4, 160) \n",
        "        self.layer2 = nn.Linear(160, 80)\n",
        "        self.layer3 = nn.Linear(80, 10)                                      \n",
        "      \n",
        "      \n",
        "    def forward(self, x): \n",
        "        x = self.pool(F.relu(self.convlayer1(x)))\n",
        "        x = self.pool(F.relu(self.convlayer2(x)))\n",
        "        x = x.view(-1, 12*4*4)\n",
        "        x = F.relu(self.layer1(x))\n",
        "        x = F.relu(self.layer2(x))\n",
        "        return self.layer3(x)\n",
        "\n"
      ],
      "execution_count": 9,
      "outputs": []
    },
    {
      "cell_type": "markdown",
      "metadata": {
        "id": "ybCApkIURqyW"
      },
      "source": [
        "Make shure the calculation runs on gpu"
      ]
    },
    {
      "cell_type": "code",
      "metadata": {
        "colab": {
          "base_uri": "https://localhost:8080/"
        },
        "id": "btiZDgEDiO3x",
        "outputId": "cb6c30d6-cf45-4c26-cf33-fce765c57394"
      },
      "source": [
        "net = Net().to(device)\n",
        "print(f\"Model sent to {device}\")"
      ],
      "execution_count": 10,
      "outputs": [
        {
          "output_type": "stream",
          "text": [
            "Model sent to cuda\n"
          ],
          "name": "stdout"
        }
      ]
    },
    {
      "cell_type": "markdown",
      "metadata": {
        "id": "nnvAMQKXRufL"
      },
      "source": [
        "Optimalisation function"
      ]
    },
    {
      "cell_type": "code",
      "metadata": {
        "id": "z-umYrNubz-Q"
      },
      "source": [
        "import torch.optim as optim\n",
        "\n",
        "criterion = nn.CrossEntropyLoss()\n",
        "optimizer = optim.SGD(net.parameters(), lr=0.001, momentum=0.9)"
      ],
      "execution_count": 11,
      "outputs": []
    },
    {
      "cell_type": "markdown",
      "metadata": {
        "id": "faJO83vNTT5O"
      },
      "source": [
        "Main loop<br>\n",
        "here the data is fed to the neural net\n"
      ]
    },
    {
      "cell_type": "code",
      "metadata": {
        "colab": {
          "base_uri": "https://localhost:8080/"
        },
        "id": "8mAiVSEmb3iG",
        "outputId": "223b9053-28d3-4367-ac1e-11081311dcc0"
      },
      "source": [
        "temp_loss = 0 \n",
        "freq = 1000\n",
        "datatable = []\n",
        "\n",
        "print(\"pass no.\\tdata no.\\tcurrent loss\")\n",
        "for epoch in range(2):\n",
        "    for i, data in enumerate(train_dataloader):\n",
        "        inputs, labels = data\n",
        "        inputs = inputs.to(device)\n",
        "        labels = labels.to(device)\n",
        "        optimizer.zero_grad()\n",
        "        outputs = net(inputs)  \n",
        "        loss = criterion(outputs, labels)\n",
        "        loss.backward()\n",
        "        optimizer.step()\n",
        "\n",
        "        temp_loss += loss.item()\n",
        "        if i % freq == freq-1:  \n",
        "            print(epoch , \"\\t\\t\", i+1,\"\\t\\t\", temp_loss / freq)\n",
        "            datatable.append(temp_loss/freq)\n",
        "            temp_loss = 0 "
      ],
      "execution_count": 12,
      "outputs": [
        {
          "output_type": "stream",
          "text": [
            "pass no.\tdata no.\tcurrent loss\n",
            "0 \t\t 1000 \t\t 1.6097603406980634\n",
            "0 \t\t 2000 \t\t 0.8052297716364264\n",
            "0 \t\t 3000 \t\t 0.7089587305546738\n",
            "0 \t\t 4000 \t\t 0.6671424228874967\n",
            "0 \t\t 5000 \t\t 0.6005763866878114\n",
            "0 \t\t 6000 \t\t 0.571845357131213\n",
            "0 \t\t 7000 \t\t 0.5511144626969472\n",
            "0 \t\t 8000 \t\t 0.5162136791006197\n",
            "0 \t\t 9000 \t\t 0.5190252238932881\n",
            "0 \t\t 10000 \t\t 0.4977753610180225\n",
            "0 \t\t 11000 \t\t 0.48592011658452977\n",
            "0 \t\t 12000 \t\t 0.4812187861299608\n",
            "0 \t\t 13000 \t\t 0.46442368206649554\n",
            "0 \t\t 14000 \t\t 0.470834335782798\n",
            "0 \t\t 15000 \t\t 0.46256534973171076\n",
            "1 \t\t 1000 \t\t 0.44673757406152437\n",
            "1 \t\t 2000 \t\t 0.4372407563420129\n",
            "1 \t\t 3000 \t\t 0.43518076543463396\n",
            "1 \t\t 4000 \t\t 0.40173786971063236\n",
            "1 \t\t 5000 \t\t 0.40545866412558823\n",
            "1 \t\t 6000 \t\t 0.4060557878459804\n",
            "1 \t\t 7000 \t\t 0.41831591113039757\n",
            "1 \t\t 8000 \t\t 0.4129446988023119\n",
            "1 \t\t 9000 \t\t 0.383735816362896\n",
            "1 \t\t 10000 \t\t 0.3993373701684177\n",
            "1 \t\t 11000 \t\t 0.39822269253706327\n",
            "1 \t\t 12000 \t\t 0.39304605417585115\n",
            "1 \t\t 13000 \t\t 0.38776337667834015\n",
            "1 \t\t 14000 \t\t 0.3662551600370789\n",
            "1 \t\t 15000 \t\t 0.3989296566924313\n"
          ],
          "name": "stdout"
        }
      ]
    },
    {
      "cell_type": "markdown",
      "metadata": {
        "id": "pi4MLXv4TljR"
      },
      "source": [
        "Plot the loss "
      ]
    },
    {
      "cell_type": "code",
      "metadata": {
        "colab": {
          "base_uri": "https://localhost:8080/",
          "height": 313
        },
        "id": "Y4OGojk_jJ-R",
        "outputId": "80223710-f115-4ca9-8b3d-662838acb4d3"
      },
      "source": [
        "plt.plot(datatable)\n",
        "plt.title(\"loss graph\")\n",
        "plt.xlabel(\"sample_no\")\n",
        "plt.ylabel(\"loss\")\n"
      ],
      "execution_count": 18,
      "outputs": [
        {
          "output_type": "execute_result",
          "data": {
            "text/plain": [
              "Text(0, 0.5, 'loss')"
            ]
          },
          "metadata": {
            "tags": []
          },
          "execution_count": 18
        },
        {
          "output_type": "display_data",
          "data": {
            "image/png": "[encoded data removed]",
            "text/plain": [
              "<Figure size 432x288 with 1 Axes>"
            ]
          },
          "metadata": {
            "tags": [],
            "needs_background": "light"
          }
        }
      ]
    },
    {
      "cell_type": "markdown",
      "metadata": {
        "id": "uVDmSJNjT5zw"
      },
      "source": [
        "Calculate final accuracy  <br>\n"
      ]
    },
    {
      "cell_type": "code",
      "metadata": {
        "id": "yeBaYGvymatd",
        "colab": {
          "base_uri": "https://localhost:8080/"
        },
        "outputId": "039c340e-ac73-4e91-c8f5-b501052f2ec7"
      },
      "source": [
        "total = 0\n",
        "correct = 0  \n",
        "with torch.no_grad():\n",
        "    for i, data in enumerate(testloader): \n",
        "        images, labels = data\n",
        "        images = images.to(device)\n",
        "        labels = labels.to(device)\n",
        "        outputs = net(images)\n",
        "        _, predicted = torch.max(outputs.data, 1)\n",
        "        total += labels.size()[0]\n",
        "        correct += (predicted == labels).sum().item()\n",
        "    \n",
        "print(\"End accuracy: \", correct/total)\n",
        "\n"
      ],
      "execution_count": 14,
      "outputs": [
        {
          "output_type": "stream",
          "text": [
            "End accuracy:  0.87255\n"
          ],
          "name": "stdout"
        }
      ]
    }
  ]
}